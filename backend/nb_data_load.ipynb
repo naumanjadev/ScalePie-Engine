{
 "cells": [
  {
   "cell_type": "markdown",
   "metadata": {},
   "source": [
    "## JSON creation"
   ]
  },
  {
   "cell_type": "code",
   "execution_count": 4,
   "metadata": {},
   "outputs": [
    {
     "name": "stdout",
     "output_type": "stream",
     "text": [
      "... uploaded to v1/master\n"
     ]
    }
   ],
   "source": [
    "import os\n",
    "from src.api.json_creation import JSONCreation\n",
    "from src.db_connector import DbConnector\n",
    "\n",
    "db_connector = DbConnector()\n",
    "\n",
    "json_creator = JSONCreation(os.getenv(\"S3_CF_BUCKET\"), os.getenv(\"CF_DISTRIBUTION_ID\"), db_connector, \"v1\")\n",
    "## for testing\n",
    "#json_creator = JSONCreation(os.getenv(\"S3_CF_BUCKET\"), os.getenv(\"CF_DISTRIBUTION_ID\"), db_connector, \"test\")\n",
    "\n",
    "#json_creator.create_all_jsons()\n",
    "\n",
    "df = json_creator.get_all_data()\n",
    "#json_creator.create_landingpage_json(df)\n",
    "#json_creator.create_chain_details_jsons(df)\n",
    "#json_creator.create_metric_details_jsons(df)\n",
    "json_creator.create_master_json()"
   ]
  },
  {
   "attachments": {},
   "cell_type": "markdown",
   "metadata": {},
   "source": [
    "## L2Beat"
   ]
  },
  {
   "cell_type": "code",
   "execution_count": null,
   "metadata": {},
   "outputs": [],
   "source": [
    "from src.db_connector import DbConnector\n",
    "db_connector = DbConnector()\n",
    "from src.adapters.adapter_l2beat import AdapterL2Beat\n",
    "\n",
    "adapter_params = {\n",
    "}\n",
    "load_params = {\n",
    "    'origin_keys' : None,\n",
    "    #'origin_keys' : ['optimism','arbitrum'] # see all options in adapter_mapping.py \n",
    "}\n",
    "\n",
    "# initialize adapter\n",
    "ad = AdapterL2Beat(adapter_params, db_connector)\n",
    "# extract\n",
    "df= ad.extract(load_params)\n",
    "# load\n",
    "ad.load(df)"
   ]
  },
  {
   "attachments": {},
   "cell_type": "markdown",
   "metadata": {},
   "source": [
    "## DefiLlama"
   ]
  },
  {
   "cell_type": "code",
   "execution_count": null,
   "metadata": {},
   "outputs": [],
   "source": [
    "from src.db_connector import DbConnector\n",
    "db_connector = DbConnector()\n",
    "from src.adapters.adapter_defillama import AdapterDefiLlama\n",
    "\n",
    "adapter_params = {\n",
    "}\n",
    "load_params = {\n",
    "    'origin_keys' : None,\n",
    "    #'origin_keys' : ['ethereum'] # see all options in adapter_mapping.py\n",
    "}\n",
    "\n",
    "# initialize adapter\n",
    "ad = AdapterDefiLlama(adapter_params, db_connector)\n",
    "# extract\n",
    "df = ad.extract(load_params)\n",
    "# load\n",
    "ad.load(df)"
   ]
  },
  {
   "attachments": {},
   "cell_type": "markdown",
   "metadata": {},
   "source": [
    "## Coingecko"
   ]
  },
  {
   "attachments": {},
   "cell_type": "markdown",
   "metadata": {},
   "source": [
    "run for projects / chains"
   ]
  },
  {
   "cell_type": "code",
   "execution_count": null,
   "metadata": {},
   "outputs": [],
   "source": [
    "from src.db_connector import DbConnector\n",
    "db_connector = DbConnector()\n",
    "from src.adapters.adapter_coingecko import AdapterCoingecko\n",
    "\n",
    "adapter_params = {\n",
    "}\n",
    "load_params = {\n",
    "    'load_type' : 'project',\n",
    "    'metric_keys' : ['price', 'volume', 'market_cap'],\n",
    "    'origin_keys' : None,\n",
    "    #'origin_keys' : ['aptos'], # see all options in adapter_mapping.py\n",
    "    'days' : 'auto', # auto, max, or a number (as string)\n",
    "    'vs_currencies' : ['usd', 'eth']\n",
    "}\n",
    "\n",
    "# initialize adapter\n",
    "ad = AdapterCoingecko(adapter_params, db_connector)\n",
    "# extract\n",
    "df = ad.extract(load_params)\n",
    "# load\n",
    "ad.load(df)"
   ]
  },
  {
   "attachments": {},
   "cell_type": "markdown",
   "metadata": {},
   "source": [
    "and for imx tokens"
   ]
  },
  {
   "cell_type": "code",
   "execution_count": null,
   "metadata": {},
   "outputs": [],
   "source": [
    "from src.db_connector import DbConnector\n",
    "db_connector = DbConnector()\n",
    "from src.adapters.adapter_coingecko import AdapterCoingecko\n",
    "\n",
    "adapter_params = {\n",
    "}\n",
    "load_params = {\n",
    "    'load_type' : 'imx_tokens'\n",
    "}\n",
    "\n",
    "# initialize adapter\n",
    "ad = AdapterCoingecko(adapter_params, db_connector)\n",
    "# extract\n",
    "df = ad.extract(load_params)\n",
    "# load\n",
    "ad.load(df)"
   ]
  },
  {
   "attachments": {},
   "cell_type": "markdown",
   "metadata": {},
   "source": [
    "## Dune"
   ]
  },
  {
   "cell_type": "code",
   "execution_count": null,
   "metadata": {},
   "outputs": [],
   "source": [
    "import os\n",
    "from src.db_connector import DbConnector\n",
    "db_connector = DbConnector()\n",
    "from src.adapters.adapter_dune import AdapterDune\n",
    "\n",
    "adapter_params = {\n",
    "    'api_key' : os.getenv(\"DUNE_API\")\n",
    "}\n",
    "\n",
    "load_params = {\n",
    "    'query_names' : ['fundamentals'], ## fundamentals, waa, stables_mcap\n",
    "    'days' : 2000,\n",
    "    #'query_names' : None,\n",
    "    #'days' : 'auto',\n",
    "}\n",
    "\n",
    "# initialize adapter\n",
    "ad = AdapterDune(adapter_params, db_connector)\n",
    "# extract\n",
    "df = ad.extract(load_params)\n",
    "# upload\n",
    "ad.load(df)"
   ]
  },
  {
   "cell_type": "code",
   "execution_count": null,
   "metadata": {},
   "outputs": [],
   "source": [
    "ad.load(df)"
   ]
  },
  {
   "attachments": {},
   "cell_type": "markdown",
   "metadata": {},
   "source": [
    "## Flipside\n",
    "sometimes some Flipside queries just get stuck -- gotta retrigger them"
   ]
  },
  {
   "cell_type": "code",
   "execution_count": null,
   "metadata": {},
   "outputs": [],
   "source": [
    "import os\n",
    "from src.db_connector import DbConnector\n",
    "db_connector = DbConnector()\n",
    "from src.adapters.adapter_flipside import AdapterFlipside\n",
    "\n",
    "adapter_params = {\n",
    "    'api_key' : os.getenv(\"FLIPSIDE_API\")\n",
    "}\n",
    "load_params = {\n",
    "    'origin_keys' : ['zksync_era'],\n",
    "    'metric_keys' : ['stables_mcap'],\n",
    "    'days' : 'auto',\n",
    "    # 'origin_keys' : None,\n",
    "    # 'metric_keys' : None,\n",
    "    # 'days' : 'auto',\n",
    "}\n",
    "\n",
    "# initialize adapter\n",
    "ad = AdapterFlipside(adapter_params, db_connector)\n",
    "# extract\n",
    "df = ad.extract(load_params)\n",
    "# load\n",
    "ad.load(df)"
   ]
  },
  {
   "cell_type": "code",
   "execution_count": null,
   "metadata": {},
   "outputs": [],
   "source": [
    "## testing the new flipside api\n",
    "\n",
    "from flipside import Flipside\n",
    "flipside = Flipside(\"74c43ebc-3291-4953-8aeb-65640da7c852\", \"https://api-v2.flipsidecrypto.xyz\")\n",
    "\n",
    "sql = \"\"\"\n",
    " select \n",
    "    BLOCK_NUMBER, BLOCK_TIMESTAMP, BLOCK_HASH, TX_HASH, NONCE, POSITION, ORIGIN_FUNCTION_SIGNATURE, FROM_ADDRESS, TO_ADDRESS, ETH_VALUE, TX_FEE, GAS_PRICE, GAS_LIMIT, \n",
    "    GAS_USED, L1_GAS_PRICE, L1_GAS_USED, L1_FEE_SCALAR, L1_SUBMISSION_BATCH_INDEX, L1_SUBMISSION_TX_HASH, L1_STATE_ROOT_BATCH_INDEX, \n",
    "    L1_STATE_ROOT_TX_HASH, CUMULATIVE_GAS_USED, INPUT_DATA, STATUS\n",
    "from optimism.core.fact_transactions\n",
    "where block_number >= 104130000\n",
    "and block_number < 104135000\n",
    "order by block_number asc\n",
    "\"\"\"\n",
    "\n",
    "# Run the query against Flipside's query engine and await the results\n",
    "query_result_set = flipside.query(sql)"
   ]
  },
  {
   "attachments": {},
   "cell_type": "markdown",
   "metadata": {},
   "source": [
    "## Zettablock"
   ]
  },
  {
   "cell_type": "code",
   "execution_count": null,
   "metadata": {},
   "outputs": [],
   "source": [
    "import os\n",
    "from src.db_connector import DbConnector\n",
    "db_connector = DbConnector()\n",
    "from src.adapters.adapter_zettablock import AdapterZettablock\n",
    "\n",
    "adapter_params = {\n",
    "    'api_key' : os.getenv(\"ZETTABLOCK_API\")\n",
    "}\n",
    "load_params = {\n",
    "    #'origin_keys' : ['zksync_era', 'polygon_zkevm'],\n",
    "    #'metric_keys' : ['txcount', ''],\n",
    "    'days' : 10,\n",
    "    'origin_keys' : None,\n",
    "    'metric_keys' : None,\n",
    "    # 'days' : 'auto',\n",
    "}\n",
    "\n",
    "# initialize adapter\n",
    "ad = AdapterZettablock(adapter_params, db_connector)\n",
    "# extract\n",
    "df = ad.extract(load_params)\n",
    "# load\n",
    "ad.load(df)"
   ]
  },
  {
   "attachments": {},
   "cell_type": "markdown",
   "metadata": {},
   "source": [
    "## ZettaBlock raw data load"
   ]
  },
  {
   "cell_type": "code",
   "execution_count": null,
   "metadata": {},
   "outputs": [],
   "source": [
    "import os\n",
    "from src.db_connector import DbConnector\n",
    "db_connector = DbConnector()\n",
    "from src.adapters.adapter_raw_zettablock import AdapterZettaBlockRaw\n",
    "\n",
    "adapter_params = {\n",
    "    'api_key' : os.getenv(\"ZETTABLOCK_API\")\n",
    "}\n",
    "\n",
    "load_params = {\n",
    "    #'keys' : ['polygon_zkevm_tx', 'zksync_era_tx'],\n",
    "    'keys' : ['zksync_era_tx'],\n",
    "    #'block_start' : 'auto', ## 'auto' or a block number as int\n",
    "    'block_start' : 9137631, ## 'auto' or a block number as int\n",
    "}\n",
    "\n",
    "# initialize adapter\n",
    "ad = AdapterZettaBlockRaw(adapter_params, db_connector)\n",
    "# extract\n",
    "ad.extract_raw(load_params, if_exists = 'ignore')"
   ]
  },
  {
   "attachments": {},
   "cell_type": "markdown",
   "metadata": {},
   "source": [
    "## Chainbase raw"
   ]
  },
  {
   "cell_type": "code",
   "execution_count": null,
   "metadata": {},
   "outputs": [],
   "source": [
    "import os\n",
    "from src.db_connector import DbConnector\n",
    "db_connector = DbConnector()\n",
    "from src.adapters.adapter_raw_chainbase import AdapterChainbaseRaw\n",
    "\n",
    "adapter_params = {\n",
    "    'api_key' : os.getenv(\"CHAINBASE_API\")\n",
    "}\n",
    "\n",
    "load_params = {\n",
    "    'keys' : ['arbitrum_tx'],\n",
    "    #'block_start' : 'auto', ## 'auto' or a block number as int\n",
    "    'block_start' : 64900000, ## until 65,570,000\n",
    "}\n",
    "\n",
    "# initialize adapter\n",
    "ad = AdapterChainbaseRaw(adapter_params, db_connector)\n",
    "# extract\n",
    "ad.extract_raw(load_params)"
   ]
  },
  {
   "attachments": {},
   "cell_type": "markdown",
   "metadata": {},
   "source": [
    "## IMX raw data load"
   ]
  },
  {
   "cell_type": "code",
   "execution_count": null,
   "metadata": {},
   "outputs": [],
   "source": [
    "## implement orchestration?\n",
    "\n",
    "from src.db_connector import DbConnector\n",
    "db_connector = DbConnector()\n",
    "from src.adapters.adapter_raw_imx import AdapterRawImx\n",
    "\n",
    "adapter_params = {\n",
    "    'load_types' : ['withdrawals', 'deposits', 'trades', 'orders_filled', 'transfers', 'mints'],\n",
    "    'forced_refresh' : 'no',\n",
    "\n",
    "    #'load_types' : ['orders_filled'],\n",
    "    #'forced_refresh' : '2023-04-01T00:00:00.000000Z',\n",
    "}\n",
    "\n",
    "# initialize adapter\n",
    "ad = AdapterRawImx(adapter_params, db_connector)\n",
    "# extract raw (and load raw in case of IMX)\n",
    "df_raw = ad.extract_raw()"
   ]
  },
  {
   "attachments": {},
   "cell_type": "markdown",
   "metadata": {},
   "source": [
    "## Flipside raw data load"
   ]
  },
  {
   "cell_type": "code",
   "execution_count": null,
   "metadata": {},
   "outputs": [],
   "source": [
    "import os\n",
    "from src.db_connector import DbConnector\n",
    "db_connector = DbConnector()\n",
    "from src.adapters.adapter_raw_flipside import AdapterFlipsideRaw\n",
    "\n",
    "adapter_params = {\n",
    "    'api_key' : os.getenv(\"FLIPSIDE_API\")\n",
    "}\n",
    "\n",
    "load_params = {\n",
    "    'keys' : ['arbitrum_tx', 'optimism_tx'],\n",
    "    'block_start' : 'auto',\n",
    "}\n",
    "\n",
    "# initialize adapter\n",
    "ad = AdapterFlipsideRaw(adapter_params, db_connector)\n",
    "# extract\n",
    "df = ad.extract_raw(load_params)"
   ]
  },
  {
   "attachments": {},
   "cell_type": "markdown",
   "metadata": {},
   "source": [
    "## SQL aggregation"
   ]
  },
  {
   "cell_type": "code",
   "execution_count": null,
   "metadata": {},
   "outputs": [],
   "source": [
    "## Loads currently IMX txcount, daa, fees_paid\n",
    "## also loads user_base_weekly\n",
    "\n",
    "from src.db_connector import DbConnector\n",
    "db_connector = DbConnector()\n",
    "from src.adapters.adapter_sql import AdapterSQL\n",
    "\n",
    "adapter_params = {\n",
    "}\n",
    "\n",
    "load_params = {\n",
    "    'load_type' : 'metrics', ## usd_to_eth or metrics\n",
    "    \n",
    "    #'days' : 'auto', ## days as int our 'auto\n",
    "    'origin_keys' : None, ## origin_keys as list or None\n",
    "    #'metric_keys' : None, ## metric_keys as list or None\n",
    "\n",
    "    'days' : '28', ## days as int our 'auto\n",
    "    #'origin_keys' : ['imx'], ## origin_keys as list or None\n",
    "    'metric_keys' : ['user_base_weekly'], ## metric_keys as list or None\n",
    "}\n",
    "\n",
    "# initialize adapter\n",
    "ad = AdapterSQL(adapter_params, db_connector)\n",
    "\n",
    "# extract\n",
    "df = ad.extract(load_params)\n",
    "# # load\n",
    "ad.load(df)"
   ]
  },
  {
   "cell_type": "code",
   "execution_count": null,
   "metadata": {},
   "outputs": [],
   "source": [
    "df.origin_key.unique()"
   ]
  },
  {
   "cell_type": "code",
   "execution_count": null,
   "metadata": {},
   "outputs": [],
   "source": [
    "from src.db_connector import DbConnector\n",
    "db_connector = DbConnector()\n",
    "from src.adapters.adapter_sql import AdapterSQL\n",
    "\n",
    "adapter_params = {\n",
    "}\n",
    "\n",
    "load_params = {\n",
    "    'load_type' : 'usd_to_eth', ## usd_to_eth or metrics\n",
    "    'days' : 2000, ## days as int\n",
    "    'origin_keys' : None, ## origin_keys as list or None\n",
    "    'metric_keys' : None, ## metric_keys as list or None\n",
    "}\n",
    "\n",
    "# initialize adapter\n",
    "ad = AdapterSQL(adapter_params, db_connector)\n",
    "\n",
    "# extract\n",
    "df = ad.extract(load_params)\n",
    "# # load\n",
    "ad.load(df)"
   ]
  },
  {
   "cell_type": "markdown",
   "metadata": {},
   "source": [
    "### Blockspace logic\n",
    "- for each chain, aggregate the daily contracts usage\n"
   ]
  },
  {
   "cell_type": "code",
   "execution_count": 1,
   "metadata": {},
   "outputs": [],
   "source": [
    "from src.db_connector import DbConnector\n",
    "db_connector = DbConnector()\n",
    "\n",
    "chain_list = ['arbitrum', 'zksync_era', 'polygon_zkevm']"
   ]
  },
  {
   "cell_type": "code",
   "execution_count": 2,
   "metadata": {},
   "outputs": [
    {
     "name": "stdout",
     "output_type": "stream",
     "text": [
      "aggregating smart_contract_deployments for arbitrum and last 3000 days...\n",
      "upserting smart_contract_deployments for arbitrum. Total rows: 464...\n",
      "aggregating smart_contract_deployments for zksync_era and last 3000 days...\n",
      "upserting smart_contract_deployments for zksync_era. Total rows: 150...\n",
      "aggregating smart_contract_deployments for polygon_zkevm and last 3000 days...\n",
      "upserting smart_contract_deployments for polygon_zkevm. Total rows: 0...\n"
     ]
    }
   ],
   "source": [
    "for chain in chain_list:\n",
    "    days =  db_connector.get_last_blockspace_date(chain)\n",
    "\n",
    "    # ## aggregate contract data\n",
    "    # print(f\"aggregating contract data for {chain} and last {days} days...\")\n",
    "    # df = db_connector.get_blockspace_contracts(chain, days)\n",
    "    # df.set_index(['address', 'date', 'origin_key'], inplace=True)\n",
    "\n",
    "    # print(f\"upserting contract data for {chain}. Total rows: {df.shape[0]}...\")\n",
    "    # db_connector.upsert_table('blockspace_fact_contract_level', df)\n",
    "\n",
    "    # ## aggregate native transfers\n",
    "    # print(f\"aggregating native_transfers for {chain} and last {days} days...\")\n",
    "    # df = db_connector.get_blockspace_native_transfers(chain, days)\n",
    "    # df.set_index(['date', 'sub_category_key' ,'origin_key'], inplace=True)\n",
    "\n",
    "    # print(f\"upserting native_transfers for {chain}. Total rows: {df.shape[0]}...\")\n",
    "    # db_connector.upsert_table('blockspace_fact_sub_category_level', df)\n",
    "\n",
    "    ## aggregate contract deployments\n",
    "    print(f\"aggregating smart_contract_deployments for {chain} and last {days} days...\")\n",
    "    df = db_connector.get_blockspace_contract_deplyments(chain, days)\n",
    "    df.set_index(['date', 'sub_category_key' ,'origin_key'], inplace=True)\n",
    "\n",
    "    print(f\"upserting smart_contract_deployments for {chain}. Total rows: {df.shape[0]}...\")\n",
    "    db_connector.upsert_table('blockspace_fact_sub_category_level', df)\n",
    "\n",
    "    # # ALL below needs to be retriggerd when mapping changes (e.g. new addresses got labeled or new categories added etc.)\n",
    "    # ## aggregate by sub categories\n",
    "    # print(f\"aggregating sub categories for {chain} and last {days} days...\")\n",
    "    # df = db_connector.get_blockspace_sub_categories(chain, days)\n",
    "    # df.set_index(['date', 'sub_category_key' ,'origin_key'], inplace=True)\n",
    "\n",
    "    # print(f\"upserting sub categories for {chain}. Total rows: {df.shape[0]}...\")\n",
    "    # db_connector.upsert_table('blockspace_fact_sub_category_level', df)\n",
    "\n",
    "    # ## determine unlabeled usage\n",
    "    # print(f\"aggregating unlabeled usage for {chain} and last {days} days...\")\n",
    "    # df = db_connector.get_blockspace_unlabeled(chain, days)\n",
    "    # df.set_index(['date', 'sub_category_key' ,'origin_key'], inplace=True)\n",
    "\n",
    "    # print(f\"upserting unlabeled usage for {chain}. Total rows: {df.shape[0]}...\")\n",
    "    # db_connector.upsert_table('blockspace_fact_sub_category_level', df)"
   ]
  },
  {
   "cell_type": "code",
   "execution_count": 1,
   "metadata": {},
   "outputs": [],
   "source": [
    "from src.db_connector import DbConnector\n",
    "db_connector = DbConnector()"
   ]
  },
  {
   "cell_type": "code",
   "execution_count": 4,
   "metadata": {},
   "outputs": [],
   "source": [
    "df = db_connector.get_top_contracts_by_category('main_category', 'defi', 'arbitrum', 'gas', 7)"
   ]
  },
  {
   "cell_type": "code",
   "execution_count": 5,
   "metadata": {},
   "outputs": [
    {
     "data": {
      "text/html": [
       "<div>\n",
       "<style scoped>\n",
       "    .dataframe tbody tr th:only-of-type {\n",
       "        vertical-align: middle;\n",
       "    }\n",
       "\n",
       "    .dataframe tbody tr th {\n",
       "        vertical-align: top;\n",
       "    }\n",
       "\n",
       "    .dataframe thead th {\n",
       "        text-align: right;\n",
       "    }\n",
       "</style>\n",
       "<table border=\"1\" class=\"dataframe\">\n",
       "  <thead>\n",
       "    <tr style=\"text-align: right;\">\n",
       "      <th></th>\n",
       "      <th>address</th>\n",
       "      <th>origin_key</th>\n",
       "      <th>contract_name</th>\n",
       "      <th>project_name</th>\n",
       "      <th>sub_category_key</th>\n",
       "      <th>sub_category_name</th>\n",
       "      <th>main_category_key</th>\n",
       "      <th>main_category_name</th>\n",
       "      <th>gas_fees_eth</th>\n",
       "      <th>gas_fees_usd</th>\n",
       "      <th>txcount</th>\n",
       "      <th>daa</th>\n",
       "    </tr>\n",
       "  </thead>\n",
       "  <tbody>\n",
       "    <tr>\n",
       "      <th>0</th>\n",
       "      <td>[b'\\xb4', b'1', b'^', b'\\x87', b'=', b'\\xbc', ...</td>\n",
       "      <td>arbitrum</td>\n",
       "      <td>LBRouter</td>\n",
       "      <td>trader_joe_v2_1</td>\n",
       "      <td>DEX</td>\n",
       "      <td>Decentralized Exchanges</td>\n",
       "      <td>defi</td>\n",
       "      <td>DeFi</td>\n",
       "      <td>3.155552</td>\n",
       "      <td>5955.160109</td>\n",
       "      <td>24064.0</td>\n",
       "      <td>16007.0</td>\n",
       "    </tr>\n",
       "    <tr>\n",
       "      <th>1</th>\n",
       "      <td>[b'\\xde', b'\\xf1', b'\\xc0', b'\\xde', b'\\xd9', ...</td>\n",
       "      <td>arbitrum</td>\n",
       "      <td>ExchangeProxy</td>\n",
       "      <td>zeroex</td>\n",
       "      <td>DEX</td>\n",
       "      <td>Decentralized Exchanges</td>\n",
       "      <td>defi</td>\n",
       "      <td>DeFi</td>\n",
       "      <td>3.028383</td>\n",
       "      <td>5710.158131</td>\n",
       "      <td>16493.0</td>\n",
       "      <td>9985.0</td>\n",
       "    </tr>\n",
       "    <tr>\n",
       "      <th>2</th>\n",
       "      <td>[b'\\x1b', b'\\x02', b'\\xda', b'\\x8c', b'\\xb0', ...</td>\n",
       "      <td>arbitrum</td>\n",
       "      <td>UniswapV2Router02</td>\n",
       "      <td>sushi</td>\n",
       "      <td>DEX</td>\n",
       "      <td>Decentralized Exchanges</td>\n",
       "      <td>defi</td>\n",
       "      <td>DeFi</td>\n",
       "      <td>2.736958</td>\n",
       "      <td>5161.087733</td>\n",
       "      <td>24751.0</td>\n",
       "      <td>11936.0</td>\n",
       "    </tr>\n",
       "    <tr>\n",
       "      <th>3</th>\n",
       "      <td>[b'\\xdd', b'\\x94', b'\\x01', b'\\x8f', b'T', b'\\...</td>\n",
       "      <td>arbitrum</td>\n",
       "      <td>OdosRouter</td>\n",
       "      <td>odos_v1</td>\n",
       "      <td>DEX</td>\n",
       "      <td>Decentralized Exchanges</td>\n",
       "      <td>defi</td>\n",
       "      <td>DeFi</td>\n",
       "      <td>2.178278</td>\n",
       "      <td>4108.596571</td>\n",
       "      <td>10607.0</td>\n",
       "      <td>6131.0</td>\n",
       "    </tr>\n",
       "    <tr>\n",
       "      <th>4</th>\n",
       "      <td>[b'\\xf4', b'\\xb1', b'H', b'm', b'\\xd7', b'M', ...</td>\n",
       "      <td>arbitrum</td>\n",
       "      <td>LendingPool</td>\n",
       "      <td>radiant_capital</td>\n",
       "      <td>lending</td>\n",
       "      <td>Lending</td>\n",
       "      <td>defi</td>\n",
       "      <td>DeFi</td>\n",
       "      <td>1.893687</td>\n",
       "      <td>3571.395943</td>\n",
       "      <td>11991.0</td>\n",
       "      <td>5697.0</td>\n",
       "    </tr>\n",
       "    <tr>\n",
       "      <th>5</th>\n",
       "      <td>[b'U', b'C', b'U', b'\\r', b'e', b'\\x81', b'&lt;',...</td>\n",
       "      <td>arbitrum</td>\n",
       "      <td>SwapRouter</td>\n",
       "      <td>camelot</td>\n",
       "      <td>DEX</td>\n",
       "      <td>Decentralized Exchanges</td>\n",
       "      <td>defi</td>\n",
       "      <td>DeFi</td>\n",
       "      <td>1.483005</td>\n",
       "      <td>2798.396560</td>\n",
       "      <td>10238.0</td>\n",
       "      <td>6623.0</td>\n",
       "    </tr>\n",
       "    <tr>\n",
       "      <th>6</th>\n",
       "      <td>[b'\\xc8', b's', b'\\xfe', b'\\xcb', b'\\xd3', b'T...</td>\n",
       "      <td>arbitrum</td>\n",
       "      <td>CamelotRouter</td>\n",
       "      <td>camelot</td>\n",
       "      <td>DEX</td>\n",
       "      <td>Decentralized Exchanges</td>\n",
       "      <td>defi</td>\n",
       "      <td>DeFi</td>\n",
       "      <td>1.071587</td>\n",
       "      <td>2022.078110</td>\n",
       "      <td>8719.0</td>\n",
       "      <td>4839.0</td>\n",
       "    </tr>\n",
       "    <tr>\n",
       "      <th>7</th>\n",
       "      <td>[b'\\x11', b'\\x11', b'\\x11', b'\\x12', b'T', b'\\...</td>\n",
       "      <td>arbitrum</td>\n",
       "      <td>AggregationRouterV4</td>\n",
       "      <td>oneinch</td>\n",
       "      <td>DEX</td>\n",
       "      <td>Decentralized Exchanges</td>\n",
       "      <td>defi</td>\n",
       "      <td>DeFi</td>\n",
       "      <td>0.941212</td>\n",
       "      <td>1775.969923</td>\n",
       "      <td>7150.0</td>\n",
       "      <td>5061.0</td>\n",
       "    </tr>\n",
       "    <tr>\n",
       "      <th>8</th>\n",
       "      <td>[b'\\xb4', b'Z', b'-', b'\\xda', b'\\x99', b'l', ...</td>\n",
       "      <td>arbitrum</td>\n",
       "      <td>TransitSwapRouterV4</td>\n",
       "      <td>transit_finance</td>\n",
       "      <td>DEX</td>\n",
       "      <td>Decentralized Exchanges</td>\n",
       "      <td>defi</td>\n",
       "      <td>DeFi</td>\n",
       "      <td>0.347513</td>\n",
       "      <td>655.850070</td>\n",
       "      <td>1969.0</td>\n",
       "      <td>1292.0</td>\n",
       "    </tr>\n",
       "    <tr>\n",
       "      <th>9</th>\n",
       "      <td>[b'\\xb9', b']', b'\\xb5', b'\\xb1', b'g', b'\\xd7...</td>\n",
       "      <td>arbitrum</td>\n",
       "      <td>RewardRouterV2</td>\n",
       "      <td>gmx</td>\n",
       "      <td>staking</td>\n",
       "      <td>Staking</td>\n",
       "      <td>defi</td>\n",
       "      <td>DeFi</td>\n",
       "      <td>0.326638</td>\n",
       "      <td>616.010679</td>\n",
       "      <td>1789.0</td>\n",
       "      <td>1480.0</td>\n",
       "    </tr>\n",
       "    <tr>\n",
       "      <th>10</th>\n",
       "      <td>[b'\\x03', b'&lt;', b'\\x00', b'\\xfd', b'\\x92', b'*...</td>\n",
       "      <td>arbitrum</td>\n",
       "      <td>SwapRouter</td>\n",
       "      <td>LighterDEX</td>\n",
       "      <td>DEX</td>\n",
       "      <td>Decentralized Exchanges</td>\n",
       "      <td>defi</td>\n",
       "      <td>DeFi</td>\n",
       "      <td>0.243496</td>\n",
       "      <td>457.811452</td>\n",
       "      <td>4811.0</td>\n",
       "      <td>42.0</td>\n",
       "    </tr>\n",
       "    <tr>\n",
       "      <th>11</th>\n",
       "      <td>[b'X', b'E', b'i', b'o', b'`', b'1', b'\\xbf', ...</td>\n",
       "      <td>arbitrum</td>\n",
       "      <td>DogeBonusPool</td>\n",
       "      <td>arbdoge</td>\n",
       "      <td>staking</td>\n",
       "      <td>Staking</td>\n",
       "      <td>defi</td>\n",
       "      <td>DeFi</td>\n",
       "      <td>0.084802</td>\n",
       "      <td>159.926617</td>\n",
       "      <td>989.0</td>\n",
       "      <td>656.0</td>\n",
       "    </tr>\n",
       "    <tr>\n",
       "      <th>12</th>\n",
       "      <td>[b'L', b'`', b'\\x05', b'\\x13', b'\\x84', b'\\xbd...</td>\n",
       "      <td>arbitrum</td>\n",
       "      <td>UniversalRouter</td>\n",
       "      <td>uniswap</td>\n",
       "      <td>DEX</td>\n",
       "      <td>Decentralized Exchanges</td>\n",
       "      <td>defi</td>\n",
       "      <td>DeFi</td>\n",
       "      <td>0.050356</td>\n",
       "      <td>95.089660</td>\n",
       "      <td>397.0</td>\n",
       "      <td>215.0</td>\n",
       "    </tr>\n",
       "    <tr>\n",
       "      <th>13</th>\n",
       "      <td>[b'\\x96', b'\\x0e', b'\\xa3', b'\\xe3', b'\\xc7', ...</td>\n",
       "      <td>arbitrum</td>\n",
       "      <td>tricrypto</td>\n",
       "      <td>curvefi</td>\n",
       "      <td>DEX</td>\n",
       "      <td>Decentralized Exchanges</td>\n",
       "      <td>defi</td>\n",
       "      <td>DeFi</td>\n",
       "      <td>0.043836</td>\n",
       "      <td>82.723248</td>\n",
       "      <td>492.0</td>\n",
       "      <td>85.0</td>\n",
       "    </tr>\n",
       "    <tr>\n",
       "      <th>14</th>\n",
       "      <td>[b'\\x16', b'\\xe2', b'\\\\', b'\\xf3', b'd', b'\\xc...</td>\n",
       "      <td>arbitrum</td>\n",
       "      <td>Ladle</td>\n",
       "      <td>yield_v2</td>\n",
       "      <td>lending</td>\n",
       "      <td>Lending</td>\n",
       "      <td>defi</td>\n",
       "      <td>DeFi</td>\n",
       "      <td>0.041275</td>\n",
       "      <td>78.108650</td>\n",
       "      <td>243.0</td>\n",
       "      <td>205.0</td>\n",
       "    </tr>\n",
       "    <tr>\n",
       "      <th>15</th>\n",
       "      <td>[b'\\xf4', b'\\xd7', b'3', b'&amp;', b'\\xc1', b':', ...</td>\n",
       "      <td>arbitrum</td>\n",
       "      <td>MiniChefV2</td>\n",
       "      <td>sushi</td>\n",
       "      <td>DEX</td>\n",
       "      <td>Decentralized Exchanges</td>\n",
       "      <td>defi</td>\n",
       "      <td>DeFi</td>\n",
       "      <td>0.032402</td>\n",
       "      <td>61.137535</td>\n",
       "      <td>440.0</td>\n",
       "      <td>284.0</td>\n",
       "    </tr>\n",
       "    <tr>\n",
       "      <th>16</th>\n",
       "      <td>[b'B', b'k', b'u', b'\\x1a', b'\\xba', b'_', b'I...</td>\n",
       "      <td>arbitrum</td>\n",
       "      <td>SwapRouterHub</td>\n",
       "      <td>gridex</td>\n",
       "      <td>DEX</td>\n",
       "      <td>Decentralized Exchanges</td>\n",
       "      <td>defi</td>\n",
       "      <td>DeFi</td>\n",
       "      <td>0.029572</td>\n",
       "      <td>55.768576</td>\n",
       "      <td>251.0</td>\n",
       "      <td>45.0</td>\n",
       "    </tr>\n",
       "    <tr>\n",
       "      <th>17</th>\n",
       "      <td>[b'6', b'\\xe5', b'l', b'\\xc5', b'-', b'z', b'\\...</td>\n",
       "      <td>arbitrum</td>\n",
       "      <td>MakerOrderManager</td>\n",
       "      <td>gridex</td>\n",
       "      <td>DEX</td>\n",
       "      <td>Decentralized Exchanges</td>\n",
       "      <td>defi</td>\n",
       "      <td>DeFi</td>\n",
       "      <td>0.017974</td>\n",
       "      <td>33.924835</td>\n",
       "      <td>179.0</td>\n",
       "      <td>34.0</td>\n",
       "    </tr>\n",
       "    <tr>\n",
       "      <th>18</th>\n",
       "      <td>[b'\\xf4', b'\\xd7', b'3', b'&amp;', b'\\xc1', b':', ...</td>\n",
       "      <td>polygon_zkevm</td>\n",
       "      <td>MiniChefV2</td>\n",
       "      <td>sushi</td>\n",
       "      <td>DEX</td>\n",
       "      <td>Decentralized Exchanges</td>\n",
       "      <td>defi</td>\n",
       "      <td>DeFi</td>\n",
       "      <td>0.015967</td>\n",
       "      <td>30.117095</td>\n",
       "      <td>38.0</td>\n",
       "      <td>36.0</td>\n",
       "    </tr>\n",
       "    <tr>\n",
       "      <th>19</th>\n",
       "      <td>[b'\\xc8', b'\\x99', b'X', b'\\xb0', b':', b'U', ...</td>\n",
       "      <td>arbitrum</td>\n",
       "      <td>None</td>\n",
       "      <td>None</td>\n",
       "      <td>lending</td>\n",
       "      <td>Lending</td>\n",
       "      <td>defi</td>\n",
       "      <td>DeFi</td>\n",
       "      <td>0.010921</td>\n",
       "      <td>20.621217</td>\n",
       "      <td>75.0</td>\n",
       "      <td>30.0</td>\n",
       "    </tr>\n",
       "  </tbody>\n",
       "</table>\n",
       "</div>"
      ],
      "text/plain": [
       "                                              address     origin_key  \\\n",
       "0   [b'\\xb4', b'1', b'^', b'\\x87', b'=', b'\\xbc', ...       arbitrum   \n",
       "1   [b'\\xde', b'\\xf1', b'\\xc0', b'\\xde', b'\\xd9', ...       arbitrum   \n",
       "2   [b'\\x1b', b'\\x02', b'\\xda', b'\\x8c', b'\\xb0', ...       arbitrum   \n",
       "3   [b'\\xdd', b'\\x94', b'\\x01', b'\\x8f', b'T', b'\\...       arbitrum   \n",
       "4   [b'\\xf4', b'\\xb1', b'H', b'm', b'\\xd7', b'M', ...       arbitrum   \n",
       "5   [b'U', b'C', b'U', b'\\r', b'e', b'\\x81', b'<',...       arbitrum   \n",
       "6   [b'\\xc8', b's', b'\\xfe', b'\\xcb', b'\\xd3', b'T...       arbitrum   \n",
       "7   [b'\\x11', b'\\x11', b'\\x11', b'\\x12', b'T', b'\\...       arbitrum   \n",
       "8   [b'\\xb4', b'Z', b'-', b'\\xda', b'\\x99', b'l', ...       arbitrum   \n",
       "9   [b'\\xb9', b']', b'\\xb5', b'\\xb1', b'g', b'\\xd7...       arbitrum   \n",
       "10  [b'\\x03', b'<', b'\\x00', b'\\xfd', b'\\x92', b'*...       arbitrum   \n",
       "11  [b'X', b'E', b'i', b'o', b'`', b'1', b'\\xbf', ...       arbitrum   \n",
       "12  [b'L', b'`', b'\\x05', b'\\x13', b'\\x84', b'\\xbd...       arbitrum   \n",
       "13  [b'\\x96', b'\\x0e', b'\\xa3', b'\\xe3', b'\\xc7', ...       arbitrum   \n",
       "14  [b'\\x16', b'\\xe2', b'\\\\', b'\\xf3', b'd', b'\\xc...       arbitrum   \n",
       "15  [b'\\xf4', b'\\xd7', b'3', b'&', b'\\xc1', b':', ...       arbitrum   \n",
       "16  [b'B', b'k', b'u', b'\\x1a', b'\\xba', b'_', b'I...       arbitrum   \n",
       "17  [b'6', b'\\xe5', b'l', b'\\xc5', b'-', b'z', b'\\...       arbitrum   \n",
       "18  [b'\\xf4', b'\\xd7', b'3', b'&', b'\\xc1', b':', ...  polygon_zkevm   \n",
       "19  [b'\\xc8', b'\\x99', b'X', b'\\xb0', b':', b'U', ...       arbitrum   \n",
       "\n",
       "          contract_name     project_name sub_category_key  \\\n",
       "0              LBRouter  trader_joe_v2_1              DEX   \n",
       "1         ExchangeProxy           zeroex              DEX   \n",
       "2     UniswapV2Router02            sushi              DEX   \n",
       "3            OdosRouter          odos_v1              DEX   \n",
       "4           LendingPool  radiant_capital          lending   \n",
       "5            SwapRouter          camelot              DEX   \n",
       "6         CamelotRouter          camelot              DEX   \n",
       "7   AggregationRouterV4          oneinch              DEX   \n",
       "8   TransitSwapRouterV4  transit_finance              DEX   \n",
       "9        RewardRouterV2              gmx          staking   \n",
       "10           SwapRouter       LighterDEX              DEX   \n",
       "11        DogeBonusPool          arbdoge          staking   \n",
       "12      UniversalRouter          uniswap              DEX   \n",
       "13            tricrypto          curvefi              DEX   \n",
       "14                Ladle         yield_v2          lending   \n",
       "15           MiniChefV2            sushi              DEX   \n",
       "16        SwapRouterHub           gridex              DEX   \n",
       "17    MakerOrderManager           gridex              DEX   \n",
       "18           MiniChefV2            sushi              DEX   \n",
       "19                 None             None          lending   \n",
       "\n",
       "          sub_category_name main_category_key main_category_name  \\\n",
       "0   Decentralized Exchanges              defi               DeFi   \n",
       "1   Decentralized Exchanges              defi               DeFi   \n",
       "2   Decentralized Exchanges              defi               DeFi   \n",
       "3   Decentralized Exchanges              defi               DeFi   \n",
       "4                   Lending              defi               DeFi   \n",
       "5   Decentralized Exchanges              defi               DeFi   \n",
       "6   Decentralized Exchanges              defi               DeFi   \n",
       "7   Decentralized Exchanges              defi               DeFi   \n",
       "8   Decentralized Exchanges              defi               DeFi   \n",
       "9                   Staking              defi               DeFi   \n",
       "10  Decentralized Exchanges              defi               DeFi   \n",
       "11                  Staking              defi               DeFi   \n",
       "12  Decentralized Exchanges              defi               DeFi   \n",
       "13  Decentralized Exchanges              defi               DeFi   \n",
       "14                  Lending              defi               DeFi   \n",
       "15  Decentralized Exchanges              defi               DeFi   \n",
       "16  Decentralized Exchanges              defi               DeFi   \n",
       "17  Decentralized Exchanges              defi               DeFi   \n",
       "18  Decentralized Exchanges              defi               DeFi   \n",
       "19                  Lending              defi               DeFi   \n",
       "\n",
       "    gas_fees_eth  gas_fees_usd  txcount      daa  \n",
       "0       3.155552   5955.160109  24064.0  16007.0  \n",
       "1       3.028383   5710.158131  16493.0   9985.0  \n",
       "2       2.736958   5161.087733  24751.0  11936.0  \n",
       "3       2.178278   4108.596571  10607.0   6131.0  \n",
       "4       1.893687   3571.395943  11991.0   5697.0  \n",
       "5       1.483005   2798.396560  10238.0   6623.0  \n",
       "6       1.071587   2022.078110   8719.0   4839.0  \n",
       "7       0.941212   1775.969923   7150.0   5061.0  \n",
       "8       0.347513    655.850070   1969.0   1292.0  \n",
       "9       0.326638    616.010679   1789.0   1480.0  \n",
       "10      0.243496    457.811452   4811.0     42.0  \n",
       "11      0.084802    159.926617    989.0    656.0  \n",
       "12      0.050356     95.089660    397.0    215.0  \n",
       "13      0.043836     82.723248    492.0     85.0  \n",
       "14      0.041275     78.108650    243.0    205.0  \n",
       "15      0.032402     61.137535    440.0    284.0  \n",
       "16      0.029572     55.768576    251.0     45.0  \n",
       "17      0.017974     33.924835    179.0     34.0  \n",
       "18      0.015967     30.117095     38.0     36.0  \n",
       "19      0.010921     20.621217     75.0     30.0  "
      ]
     },
     "execution_count": 5,
     "metadata": {},
     "output_type": "execute_result"
    }
   ],
   "source": [
    "df"
   ]
  },
  {
   "attachments": {},
   "cell_type": "markdown",
   "metadata": {},
   "source": [
    "## S3"
   ]
  },
  {
   "cell_type": "code",
   "execution_count": null,
   "metadata": {},
   "outputs": [],
   "source": [
    "## connect to s3 bucket and output list of files\n",
    "import pandas as pd\n",
    "import boto3\n",
    "import os\n",
    "\n",
    "s3 = boto3.resource(\n",
    "    service_name='s3',\n",
    "    region_name='us-east-1',\n",
    "    aws_access_key_id=os.getenv(\"AWS_ACCESS_KEY_ID\"),\n",
    "    aws_secret_access_key=os.getenv(\"AWS_SECRET_ACCESS_KEY\")\n",
    ")\n",
    "\n",
    "bucket = s3.Bucket('gtp-longterm')\n",
    "\n",
    "## get list of files in bucket with last modified date\n",
    "files = []\n",
    "for obj in bucket.objects.all():\n",
    "    files.append([obj.key, obj.last_modified])\n",
    "\n",
    "df = pd.DataFrame(files, columns=['key', 'last_modified'])\n",
    "\n",
    "## filter out files where key starts with 'imx'\n",
    "df = df[~df.key.str.startswith('imx')]\n",
    "\n",
    "df['chain'] = df.key.str.split('/').str[0]\n",
    "\n",
    "## create new column block_range that extracts the string between 'tx_' and '.parquet' in the key column using lambda function\n",
    "df['block_range'] = df.key.apply(lambda x: x[x.find('tx_')+3:x.find('.parquet')])\n",
    "df['block_start'] = df.block_range.str.split('-').str[0].astype(int)\n",
    "df['block_end'] = df.block_range.str.split('-').str[1].astype(int)\n",
    "\n",
    "## sort by block_start\n",
    "df.sort_values(by='block_start', inplace=True, ascending=True)"
   ]
  },
  {
   "cell_type": "code",
   "execution_count": null,
   "metadata": {},
   "outputs": [],
   "source": [
    "df"
   ]
  },
  {
   "cell_type": "markdown",
   "metadata": {},
   "source": [
    "### Arbitrum"
   ]
  },
  {
   "cell_type": "code",
   "execution_count": null,
   "metadata": {},
   "outputs": [],
   "source": [
    "df_arbitrum = df[df.chain == 'arbitrum']"
   ]
  },
  {
   "cell_type": "code",
   "execution_count": null,
   "metadata": {},
   "outputs": [],
   "source": [
    "df_arbitrum"
   ]
  },
  {
   "cell_type": "code",
   "execution_count": null,
   "metadata": {},
   "outputs": [],
   "source": [
    "## load first file in df_arbitrum into df\n",
    "df_arbitrum_flipside = pd.read_parquet(f\"s3://gtp-longterm/{df_arbitrum.key.iloc[0]}\")\n",
    "df_arbitrum_flipside.sort_values(by='ETH_VALUE', inplace=True, ascending=False)\n",
    "df_arbitrum_flipside.head(10)"
   ]
  },
  {
   "cell_type": "code",
   "execution_count": null,
   "metadata": {},
   "outputs": [],
   "source": [
    "## load first file in df_arbitrum with block_start >= 96528665 into df\n",
    "df_arbitrum_chainbase = pd.read_parquet(f\"s3://gtp-longterm/{df_arbitrum[df_arbitrum.block_start >= 96528665].key.iloc[10]}\")\n",
    "df_arbitrum_chainbase.head()"
   ]
  },
  {
   "cell_type": "markdown",
   "metadata": {},
   "source": [
    "### Optimism"
   ]
  },
  {
   "cell_type": "code",
   "execution_count": null,
   "metadata": {},
   "outputs": [],
   "source": [
    "df_optimism = df[df.chain == 'optimism']"
   ]
  },
  {
   "cell_type": "code",
   "execution_count": null,
   "metadata": {},
   "outputs": [],
   "source": [
    "## load first file in df_arbitrum into df\n",
    "df_optimism_flipside = pd.read_parquet(f\"s3://gtp-longterm/{df_optimism.key.iloc[0]}\")\n",
    "df_optimism_flipside.head()"
   ]
  },
  {
   "cell_type": "code",
   "execution_count": null,
   "metadata": {},
   "outputs": [],
   "source": [
    "# df_optimism_flipside[['TX_HASH', 'ETH_VALUE', 'TX_FEE', 'GAS_PRICE', 'GAS_LIMIT', 'GAS_USED',\n",
    "#        'L1_GAS_PRICE', 'L1_GAS_USED', 'L1_FEE_SCALAR',  'CUMULATIVE_GAS_USED' ]]\n",
    "\n",
    "## filter df_optimism_flipside where TX_HASH = 0xA5E0DACD8D29020C04139F8506C01CBA8B6E561CE567DF8DA35857722232F559 and select columns 'TX_HASH', 'ETH_VALUE', 'TX_FEE', 'GAS_PRICE', 'GAS_LIMIT', 'GAS_USED','L1_GAS_PRICE', 'L1_GAS_USED', 'L1_FEE_SCALAR',  'CUMULATIVE_GAS_USED' \n",
    "\n",
    "df_optimism_flipside[df_optimism_flipside.TX_HASH == '0xA5E0DACD8D29020C04139F8506C01CBA8B6E561CE567DF8DA35857722232F559'.lower()][['TX_HASH', 'ETH_VALUE', 'TX_FEE', 'GAS_PRICE', 'GAS_LIMIT', 'GAS_USED','L1_GAS_PRICE', 'L1_GAS_USED', 'L1_FEE_SCALAR',  'CUMULATIVE_GAS_USED' ]]"
   ]
  },
  {
   "cell_type": "code",
   "execution_count": null,
   "metadata": {},
   "outputs": [],
   "source": [
    "df_optimism_flipside['GAS_PRICE'] / 1e9"
   ]
  },
  {
   "cell_type": "code",
   "execution_count": null,
   "metadata": {},
   "outputs": [],
   "source": [
    "df_optimism_flipside.columns"
   ]
  },
  {
   "cell_type": "code",
   "execution_count": null,
   "metadata": {},
   "outputs": [],
   "source": [
    "## load first file in df_arbitrum with block_start >= 96528665 into df\n",
    "df_optimism_chainbase = pd.read_parquet(f\"s3://gtp-longterm/{df_optimism[df_optimism.block_start >= 103428989].key.iloc[0]}\")\n",
    "df_optimism_chainbase.head()"
   ]
  },
  {
   "cell_type": "markdown",
   "metadata": {},
   "source": [
    "### Polygon zkEVM"
   ]
  },
  {
   "cell_type": "code",
   "execution_count": null,
   "metadata": {},
   "outputs": [],
   "source": [
    "df_polygon = df[df.chain == 'polygon_zkevm']"
   ]
  },
  {
   "cell_type": "code",
   "execution_count": null,
   "metadata": {},
   "outputs": [],
   "source": [
    "## load first file in df_arbitrum into df\n",
    "df_polygon_zb = pd.read_parquet(f\"s3://gtp-longterm/{df_polygon.key.iloc[0]}\")\n",
    "df_polygon_zb.head()"
   ]
  },
  {
   "cell_type": "code",
   "execution_count": null,
   "metadata": {},
   "outputs": [],
   "source": []
  },
  {
   "cell_type": "markdown",
   "metadata": {},
   "source": [
    "### zkSync Era"
   ]
  },
  {
   "cell_type": "code",
   "execution_count": null,
   "metadata": {},
   "outputs": [],
   "source": [
    "df_zksync = df[df.chain == 'zksync_era']"
   ]
  },
  {
   "cell_type": "code",
   "execution_count": null,
   "metadata": {},
   "outputs": [],
   "source": [
    "## load first file in df_arbitrum into df\n",
    "df_zksync_zb = pd.read_parquet(f\"s3://gtp-longterm/{df_zksync.key.iloc[0]}\")\n",
    "df_zksync_zb.head()"
   ]
  },
  {
   "cell_type": "code",
   "execution_count": null,
   "metadata": {},
   "outputs": [],
   "source": [
    "# ## rename files in S3 bucket that contain 'block_'\n",
    "# for index, row in df[df.key.str.contains('block_')].iterrows():\n",
    "#     print(row['key'])\n",
    "#     old_key = row['key']\n",
    "#     new_key = old_key.replace('block_', '')\n",
    "#     print(new_key)\n",
    "#     s3.Object('gtp-longterm', new_key).copy_from(CopySource='gtp-longterm/'+old_key)\n",
    "#     #s3.Object('gtp-longterm', old_key).delete()\n"
   ]
  },
  {
   "cell_type": "code",
   "execution_count": null,
   "metadata": {},
   "outputs": [],
   "source": [
    "df_arbitrum[df_arbitrum.block_start >= 96528665].sort_values(by='last_modified', ascending=True)"
   ]
  },
  {
   "cell_type": "code",
   "execution_count": null,
   "metadata": {},
   "outputs": [],
   "source": [
    "main_zksync()"
   ]
  },
  {
   "cell_type": "markdown",
   "metadata": {},
   "source": [
    "## indexed.xyz"
   ]
  },
  {
   "cell_type": "code",
   "execution_count": null,
   "metadata": {},
   "outputs": [],
   "source": [
    "import boto3\n",
    "\n",
    "aws_access_key_id = \"43c31ff797ec2387177cabab6d18f15a\"\n",
    "aws_secret_access_key = \"afb354f05026f2512557922974e9dd2fdb21e5c2f5cbf929b35f0645fb284cf7\"\n",
    "bucket_name = 'indexed-xyz'\n",
    "\n",
    "s3 = boto3.client(\n",
    "    's3',\n",
    "    aws_access_key_id=aws_access_key_id,\n",
    "    aws_secret_access_key=aws_secret_access_key,\n",
    "        )"
   ]
  },
  {
   "cell_type": "code",
   "execution_count": null,
   "metadata": {},
   "outputs": [],
   "source": [
    "## list all files in bucket\n",
    "for obj in s3.list_objects(Bucket=bucket_name)['Contents']:\n",
    "    print(obj['Key'])"
   ]
  },
  {
   "cell_type": "code",
   "execution_count": null,
   "metadata": {},
   "outputs": [],
   "source": []
  }
 ],
 "metadata": {
  "kernelspec": {
   "display_name": "Python 3",
   "language": "python",
   "name": "python3"
  },
  "language_info": {
   "codemirror_mode": {
    "name": "ipython",
    "version": 3
   },
   "file_extension": ".py",
   "mimetype": "text/x-python",
   "name": "python",
   "nbconvert_exporter": "python",
   "pygments_lexer": "ipython3",
   "version": "3.10.11"
  },
  "orig_nbformat": 4
 },
 "nbformat": 4,
 "nbformat_minor": 2
}
